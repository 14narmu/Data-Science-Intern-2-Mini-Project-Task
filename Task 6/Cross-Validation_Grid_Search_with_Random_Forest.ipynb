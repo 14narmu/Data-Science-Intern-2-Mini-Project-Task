{
 "cells": [
  {
   "cell_type": "markdown",
   "metadata": {},
   "source": [
    "**Run the following two cells before you begin.**"
   ]
  },
  {
   "cell_type": "code",
   "execution_count": 1,
   "metadata": {},
   "outputs": [
    {
     "data": {
      "application/javascript": [
       "IPython.notebook.set_autosave_interval(10000)"
      ]
     },
     "metadata": {},
     "output_type": "display_data"
    },
    {
     "name": "stdout",
     "output_type": "stream",
     "text": [
      "Autosaving every 10 seconds\n"
     ]
    }
   ],
   "source": [
    "%autosave 10"
   ]
  },
  {
   "cell_type": "code",
   "execution_count": 2,
   "metadata": {},
   "outputs": [],
   "source": [
    "import pandas as pd\n",
    "import numpy as np\n",
    "import matplotlib.pyplot as plt\n",
    "\n",
    "%matplotlib inline\n",
    "\n",
    "df = pd.read_csv('cleaned_data.csv')"
   ]
  },
  {
   "cell_type": "markdown",
   "metadata": {},
   "source": [
    "**Run the following 3 cells to create a list of features, create a train/test split, and instantiate a random forest classifier.**"
   ]
  },
  {
   "cell_type": "code",
   "execution_count": 3,
   "metadata": {},
   "outputs": [
    {
     "data": {
      "text/plain": [
       "['LIMIT_BAL',\n",
       " 'EDUCATION',\n",
       " 'MARRIAGE',\n",
       " 'AGE',\n",
       " 'PAY_1',\n",
       " 'BILL_AMT1',\n",
       " 'BILL_AMT2',\n",
       " 'BILL_AMT3',\n",
       " 'BILL_AMT4',\n",
       " 'BILL_AMT5',\n",
       " 'BILL_AMT6',\n",
       " 'PAY_AMT1',\n",
       " 'PAY_AMT2',\n",
       " 'PAY_AMT3',\n",
       " 'PAY_AMT4',\n",
       " 'PAY_AMT5',\n",
       " 'PAY_AMT6',\n",
       " 'default payment next month']"
      ]
     },
     "execution_count": 3,
     "metadata": {},
     "output_type": "execute_result"
    }
   ],
   "source": [
    "features_response = df.columns.tolist()\n",
    "items_to_remove = ['ID', 'SEX', 'PAY_2', 'PAY_3', 'PAY_4', 'PAY_5', 'PAY_6',\n",
    "                   'EDUCATION_CAT', 'graduate school', 'high school', 'none',\n",
    "                   'others', 'university']\n",
    "features_response = [item for item in features_response if item not in items_to_remove]\n",
    "features_response"
   ]
  },
  {
   "cell_type": "code",
   "execution_count": 4,
   "metadata": {},
   "outputs": [],
   "source": [
    "from sklearn.model_selection import train_test_split\n",
    "\n",
    "X_train, X_test, y_train, y_test = train_test_split(\n",
    "    df[features_response[:-1]].values,\n",
    "    df['default payment next month'].values,\n",
    "    test_size=0.2, random_state=24\n",
    ")"
   ]
  },
  {
   "cell_type": "code",
   "execution_count": 5,
   "metadata": {},
   "outputs": [],
   "source": [
    "from sklearn.ensemble import RandomForestClassifier\n",
    "\n",
    "rf = RandomForestClassifier(\n",
    "    n_estimators=10, criterion='gini', max_depth=3,\n",
    "    min_samples_split=2, min_samples_leaf=1, min_weight_fraction_leaf=0.0,\n",
    "    max_features='auto', max_leaf_nodes=None, min_impurity_decrease=0.0,\n",
    "    min_impurity_split=None, bootstrap=True, oob_score=False, n_jobs=None,\n",
    "    random_state=4, verbose=0, warm_start=False, class_weight=None\n",
    ")"
   ]
  },
  {
   "cell_type": "markdown",
   "metadata": {},
   "source": [
    "**Create a dictionary representing the grid for the `max_depth` and `n_estimators` hyperparameters that will be searched. Include depths of 3, 6, 9, and 12, and 10, 50, 100, and 200 trees.**"
   ]
  },
  {
   "cell_type": "code",
   "execution_count": 6,
   "metadata": {},
   "outputs": [],
   "source": [
    "params_dict={'max_depth':[3,6,9,12],'n_estimators':[10,50,100,200]}\n"
   ]
  },
  {
   "cell_type": "code",
   "execution_count": 7,
   "metadata": {},
   "outputs": [
    {
     "data": {
      "text/plain": [
       "{'max_depth': [3, 6, 9, 12], 'n_estimators': [10, 50, 100, 200]}"
      ]
     },
     "execution_count": 7,
     "metadata": {},
     "output_type": "execute_result"
    }
   ],
   "source": [
    "params_dict"
   ]
  },
  {
   "cell_type": "markdown",
   "metadata": {},
   "source": [
    "________________________________________________________________\n",
    "**Instantiate a `GridSearchCV` object using the same options that we have previously in this course, but with the dictionary of hyperparameters created above. Set `verbose=2` to see the output for each fit performed.**"
   ]
  },
  {
   "cell_type": "code",
   "execution_count": 8,
   "metadata": {},
   "outputs": [],
   "source": [
    "from sklearn.model_selection import GridSearchCV\n",
    "gds=GridSearchCV(rf,param_grid=params_dict,verbose=2,)"
   ]
  },
  {
   "cell_type": "markdown",
   "metadata": {},
   "source": [
    "____________________________________________________\n",
    "**Fit the `GridSearchCV` object on the training data.**"
   ]
  },
  {
   "cell_type": "code",
   "execution_count": 9,
   "metadata": {},
   "outputs": [
    {
     "name": "stderr",
     "output_type": "stream",
     "text": [
      "C:\\anagonda\\lib\\site-packages\\sklearn\\model_selection\\_split.py:1978: FutureWarning: The default value of cv will change from 3 to 5 in version 0.22. Specify it explicitly to silence this warning.\n",
      "  warnings.warn(CV_WARNING, FutureWarning)\n",
      "[Parallel(n_jobs=1)]: Using backend SequentialBackend with 1 concurrent workers.\n"
     ]
    },
    {
     "name": "stdout",
     "output_type": "stream",
     "text": [
      "Fitting 3 folds for each of 16 candidates, totalling 48 fits\n",
      "[CV] max_depth=3, n_estimators=10 ....................................\n",
      "[CV] ..................... max_depth=3, n_estimators=10, total=   0.4s\n",
      "[CV] max_depth=3, n_estimators=10 ....................................\n"
     ]
    },
    {
     "name": "stderr",
     "output_type": "stream",
     "text": [
      "[Parallel(n_jobs=1)]: Done   1 out of   1 | elapsed:    0.3s remaining:    0.0s\n"
     ]
    },
    {
     "name": "stdout",
     "output_type": "stream",
     "text": [
      "[CV] ..................... max_depth=3, n_estimators=10, total=   0.3s\n",
      "[CV] max_depth=3, n_estimators=10 ....................................\n",
      "[CV] ..................... max_depth=3, n_estimators=10, total=   0.3s\n",
      "[CV] max_depth=3, n_estimators=50 ....................................\n",
      "[CV] ..................... max_depth=3, n_estimators=50, total=   1.4s\n",
      "[CV] max_depth=3, n_estimators=50 ....................................\n",
      "[CV] ..................... max_depth=3, n_estimators=50, total=   1.5s\n",
      "[CV] max_depth=3, n_estimators=50 ....................................\n",
      "[CV] ..................... max_depth=3, n_estimators=50, total=   1.4s\n",
      "[CV] max_depth=3, n_estimators=100 ...................................\n",
      "[CV] .................... max_depth=3, n_estimators=100, total=   3.4s\n",
      "[CV] max_depth=3, n_estimators=100 ...................................\n",
      "[CV] .................... max_depth=3, n_estimators=100, total=   2.9s\n",
      "[CV] max_depth=3, n_estimators=100 ...................................\n",
      "[CV] .................... max_depth=3, n_estimators=100, total=   3.1s\n",
      "[CV] max_depth=3, n_estimators=200 ...................................\n",
      "[CV] .................... max_depth=3, n_estimators=200, total=   5.8s\n",
      "[CV] max_depth=3, n_estimators=200 ...................................\n",
      "[CV] .................... max_depth=3, n_estimators=200, total=   5.8s\n",
      "[CV] max_depth=3, n_estimators=200 ...................................\n",
      "[CV] .................... max_depth=3, n_estimators=200, total=   6.0s\n",
      "[CV] max_depth=6, n_estimators=10 ....................................\n",
      "[CV] ..................... max_depth=6, n_estimators=10, total=   0.4s\n",
      "[CV] max_depth=6, n_estimators=10 ....................................\n",
      "[CV] ..................... max_depth=6, n_estimators=10, total=   0.5s\n",
      "[CV] max_depth=6, n_estimators=10 ....................................\n",
      "[CV] ..................... max_depth=6, n_estimators=10, total=   0.5s\n",
      "[CV] max_depth=6, n_estimators=50 ....................................\n",
      "[CV] ..................... max_depth=6, n_estimators=50, total=   2.4s\n",
      "[CV] max_depth=6, n_estimators=50 ....................................\n",
      "[CV] ..................... max_depth=6, n_estimators=50, total=   2.4s\n",
      "[CV] max_depth=6, n_estimators=50 ....................................\n",
      "[CV] ..................... max_depth=6, n_estimators=50, total=   2.4s\n",
      "[CV] max_depth=6, n_estimators=100 ...................................\n",
      "[CV] .................... max_depth=6, n_estimators=100, total=   5.0s\n",
      "[CV] max_depth=6, n_estimators=100 ...................................\n",
      "[CV] .................... max_depth=6, n_estimators=100, total=   4.7s\n",
      "[CV] max_depth=6, n_estimators=100 ...................................\n",
      "[CV] .................... max_depth=6, n_estimators=100, total=   4.7s\n",
      "[CV] max_depth=6, n_estimators=200 ...................................\n",
      "[CV] .................... max_depth=6, n_estimators=200, total=   9.6s\n",
      "[CV] max_depth=6, n_estimators=200 ...................................\n",
      "[CV] .................... max_depth=6, n_estimators=200, total=   9.4s\n",
      "[CV] max_depth=6, n_estimators=200 ...................................\n",
      "[CV] .................... max_depth=6, n_estimators=200, total=   9.9s\n",
      "[CV] max_depth=9, n_estimators=10 ....................................\n",
      "[CV] ..................... max_depth=9, n_estimators=10, total=   0.6s\n",
      "[CV] max_depth=9, n_estimators=10 ....................................\n",
      "[CV] ..................... max_depth=9, n_estimators=10, total=   0.7s\n",
      "[CV] max_depth=9, n_estimators=10 ....................................\n",
      "[CV] ..................... max_depth=9, n_estimators=10, total=   0.6s\n",
      "[CV] max_depth=9, n_estimators=50 ....................................\n",
      "[CV] ..................... max_depth=9, n_estimators=50, total=   3.3s\n",
      "[CV] max_depth=9, n_estimators=50 ....................................\n",
      "[CV] ..................... max_depth=9, n_estimators=50, total=   3.6s\n",
      "[CV] max_depth=9, n_estimators=50 ....................................\n",
      "[CV] ..................... max_depth=9, n_estimators=50, total=   3.5s\n",
      "[CV] max_depth=9, n_estimators=100 ...................................\n",
      "[CV] .................... max_depth=9, n_estimators=100, total=   6.6s\n",
      "[CV] max_depth=9, n_estimators=100 ...................................\n",
      "[CV] .................... max_depth=9, n_estimators=100, total=   6.8s\n",
      "[CV] max_depth=9, n_estimators=100 ...................................\n",
      "[CV] .................... max_depth=9, n_estimators=100, total=   6.6s\n",
      "[CV] max_depth=9, n_estimators=200 ...................................\n",
      "[CV] .................... max_depth=9, n_estimators=200, total=  13.4s\n",
      "[CV] max_depth=9, n_estimators=200 ...................................\n",
      "[CV] .................... max_depth=9, n_estimators=200, total=  13.5s\n",
      "[CV] max_depth=9, n_estimators=200 ...................................\n",
      "[CV] .................... max_depth=9, n_estimators=200, total=  13.5s\n",
      "[CV] max_depth=12, n_estimators=10 ...................................\n",
      "[CV] .................... max_depth=12, n_estimators=10, total=   0.8s\n",
      "[CV] max_depth=12, n_estimators=10 ...................................\n",
      "[CV] .................... max_depth=12, n_estimators=10, total=   0.9s\n",
      "[CV] max_depth=12, n_estimators=10 ...................................\n",
      "[CV] .................... max_depth=12, n_estimators=10, total=   0.9s\n",
      "[CV] max_depth=12, n_estimators=50 ...................................\n",
      "[CV] .................... max_depth=12, n_estimators=50, total=   4.1s\n",
      "[CV] max_depth=12, n_estimators=50 ...................................\n",
      "[CV] .................... max_depth=12, n_estimators=50, total=   4.0s\n",
      "[CV] max_depth=12, n_estimators=50 ...................................\n",
      "[CV] .................... max_depth=12, n_estimators=50, total=   4.4s\n",
      "[CV] max_depth=12, n_estimators=100 ..................................\n",
      "[CV] ................... max_depth=12, n_estimators=100, total=   8.3s\n",
      "[CV] max_depth=12, n_estimators=100 ..................................\n",
      "[CV] ................... max_depth=12, n_estimators=100, total=   8.3s\n",
      "[CV] max_depth=12, n_estimators=100 ..................................\n",
      "[CV] ................... max_depth=12, n_estimators=100, total=   8.2s\n",
      "[CV] max_depth=12, n_estimators=200 ..................................\n",
      "[CV] ................... max_depth=12, n_estimators=200, total=  16.8s\n",
      "[CV] max_depth=12, n_estimators=200 ..................................\n",
      "[CV] ................... max_depth=12, n_estimators=200, total=  16.9s\n",
      "[CV] max_depth=12, n_estimators=200 ..................................\n",
      "[CV] ................... max_depth=12, n_estimators=200, total=  17.1s\n"
     ]
    },
    {
     "name": "stderr",
     "output_type": "stream",
     "text": [
      "[Parallel(n_jobs=1)]: Done  48 out of  48 | elapsed:  4.1min finished\n"
     ]
    },
    {
     "data": {
      "text/plain": [
       "GridSearchCV(cv='warn', error_score='raise-deprecating',\n",
       "             estimator=RandomForestClassifier(bootstrap=True, class_weight=None,\n",
       "                                              criterion='gini', max_depth=3,\n",
       "                                              max_features='auto',\n",
       "                                              max_leaf_nodes=None,\n",
       "                                              min_impurity_decrease=0.0,\n",
       "                                              min_impurity_split=None,\n",
       "                                              min_samples_leaf=1,\n",
       "                                              min_samples_split=2,\n",
       "                                              min_weight_fraction_leaf=0.0,\n",
       "                                              n_estimators=10, n_jobs=None,\n",
       "                                              oob_score=False, random_state=4,\n",
       "                                              verbose=0, warm_start=False),\n",
       "             iid='warn', n_jobs=None,\n",
       "             param_grid={'max_depth': [3, 6, 9, 12],\n",
       "                         'n_estimators': [10, 50, 100, 200]},\n",
       "             pre_dispatch='2*n_jobs', refit=True, return_train_score=False,\n",
       "             scoring=None, verbose=2)"
      ]
     },
     "execution_count": 9,
     "metadata": {},
     "output_type": "execute_result"
    }
   ],
   "source": [
    "gds.fit(X_train,y_train)"
   ]
  },
  {
   "cell_type": "markdown",
   "metadata": {},
   "source": [
    "___________________________________________________________\n",
    "**Put the results of the grid search in a pandas DataFrame.**"
   ]
  },
  {
   "cell_type": "code",
   "execution_count": 10,
   "metadata": {
    "scrolled": true
   },
   "outputs": [
    {
     "data": {
      "text/html": [
       "<div>\n",
       "<style scoped>\n",
       "    .dataframe tbody tr th:only-of-type {\n",
       "        vertical-align: middle;\n",
       "    }\n",
       "\n",
       "    .dataframe tbody tr th {\n",
       "        vertical-align: top;\n",
       "    }\n",
       "\n",
       "    .dataframe thead th {\n",
       "        text-align: right;\n",
       "    }\n",
       "</style>\n",
       "<table border=\"1\" class=\"dataframe\">\n",
       "  <thead>\n",
       "    <tr style=\"text-align: right;\">\n",
       "      <th></th>\n",
       "      <th>mean_fit_time</th>\n",
       "      <th>std_fit_time</th>\n",
       "      <th>mean_score_time</th>\n",
       "      <th>std_score_time</th>\n",
       "      <th>param_max_depth</th>\n",
       "      <th>param_n_estimators</th>\n",
       "      <th>params</th>\n",
       "      <th>split0_test_score</th>\n",
       "      <th>split1_test_score</th>\n",
       "      <th>split2_test_score</th>\n",
       "      <th>mean_test_score</th>\n",
       "      <th>std_test_score</th>\n",
       "      <th>rank_test_score</th>\n",
       "    </tr>\n",
       "  </thead>\n",
       "  <tbody>\n",
       "    <tr>\n",
       "      <th>0</th>\n",
       "      <td>0.304786</td>\n",
       "      <td>0.065373</td>\n",
       "      <td>0.025591</td>\n",
       "      <td>0.008099</td>\n",
       "      <td>3</td>\n",
       "      <td>10</td>\n",
       "      <td>{'max_depth': 3, 'n_estimators': 10}</td>\n",
       "      <td>0.813388</td>\n",
       "      <td>0.824754</td>\n",
       "      <td>0.819972</td>\n",
       "      <td>0.819371</td>\n",
       "      <td>0.004660</td>\n",
       "      <td>9</td>\n",
       "    </tr>\n",
       "    <tr>\n",
       "      <th>1</th>\n",
       "      <td>1.328903</td>\n",
       "      <td>0.038488</td>\n",
       "      <td>0.087407</td>\n",
       "      <td>0.011708</td>\n",
       "      <td>3</td>\n",
       "      <td>50</td>\n",
       "      <td>{'max_depth': 3, 'n_estimators': 50}</td>\n",
       "      <td>0.812122</td>\n",
       "      <td>0.820253</td>\n",
       "      <td>0.813221</td>\n",
       "      <td>0.815199</td>\n",
       "      <td>0.003602</td>\n",
       "      <td>14</td>\n",
       "    </tr>\n",
       "    <tr>\n",
       "      <th>2</th>\n",
       "      <td>2.973144</td>\n",
       "      <td>0.178962</td>\n",
       "      <td>0.196917</td>\n",
       "      <td>0.023735</td>\n",
       "      <td>3</td>\n",
       "      <td>100</td>\n",
       "      <td>{'max_depth': 3, 'n_estimators': 100}</td>\n",
       "      <td>0.810997</td>\n",
       "      <td>0.819550</td>\n",
       "      <td>0.811111</td>\n",
       "      <td>0.813886</td>\n",
       "      <td>0.004005</td>\n",
       "      <td>16</td>\n",
       "    </tr>\n",
       "    <tr>\n",
       "      <th>3</th>\n",
       "      <td>5.564137</td>\n",
       "      <td>0.118006</td>\n",
       "      <td>0.319968</td>\n",
       "      <td>0.019688</td>\n",
       "      <td>3</td>\n",
       "      <td>200</td>\n",
       "      <td>{'max_depth': 3, 'n_estimators': 200}</td>\n",
       "      <td>0.811419</td>\n",
       "      <td>0.819409</td>\n",
       "      <td>0.813502</td>\n",
       "      <td>0.814777</td>\n",
       "      <td>0.003384</td>\n",
       "      <td>15</td>\n",
       "    </tr>\n",
       "    <tr>\n",
       "      <th>4</th>\n",
       "      <td>0.461206</td>\n",
       "      <td>0.047570</td>\n",
       "      <td>0.022626</td>\n",
       "      <td>0.001876</td>\n",
       "      <td>6</td>\n",
       "      <td>10</td>\n",
       "      <td>{'max_depth': 6, 'n_estimators': 10}</td>\n",
       "      <td>0.814653</td>\n",
       "      <td>0.823347</td>\n",
       "      <td>0.819831</td>\n",
       "      <td>0.819277</td>\n",
       "      <td>0.003571</td>\n",
       "      <td>11</td>\n",
       "    </tr>\n",
       "    <tr>\n",
       "      <th>5</th>\n",
       "      <td>2.271434</td>\n",
       "      <td>0.012186</td>\n",
       "      <td>0.108285</td>\n",
       "      <td>0.018203</td>\n",
       "      <td>6</td>\n",
       "      <td>50</td>\n",
       "      <td>{'max_depth': 6, 'n_estimators': 50}</td>\n",
       "      <td>0.815919</td>\n",
       "      <td>0.824332</td>\n",
       "      <td>0.820956</td>\n",
       "      <td>0.820402</td>\n",
       "      <td>0.003457</td>\n",
       "      <td>4</td>\n",
       "    </tr>\n",
       "    <tr>\n",
       "      <th>6</th>\n",
       "      <td>4.613651</td>\n",
       "      <td>0.155278</td>\n",
       "      <td>0.183756</td>\n",
       "      <td>0.005275</td>\n",
       "      <td>6</td>\n",
       "      <td>100</td>\n",
       "      <td>{'max_depth': 6, 'n_estimators': 100}</td>\n",
       "      <td>0.815216</td>\n",
       "      <td>0.824473</td>\n",
       "      <td>0.821378</td>\n",
       "      <td>0.820355</td>\n",
       "      <td>0.003848</td>\n",
       "      <td>5</td>\n",
       "    </tr>\n",
       "    <tr>\n",
       "      <th>7</th>\n",
       "      <td>9.238109</td>\n",
       "      <td>0.187360</td>\n",
       "      <td>0.405754</td>\n",
       "      <td>0.014547</td>\n",
       "      <td>6</td>\n",
       "      <td>200</td>\n",
       "      <td>{'max_depth': 6, 'n_estimators': 200}</td>\n",
       "      <td>0.815638</td>\n",
       "      <td>0.824473</td>\n",
       "      <td>0.821800</td>\n",
       "      <td>0.820637</td>\n",
       "      <td>0.003700</td>\n",
       "      <td>1</td>\n",
       "    </tr>\n",
       "    <tr>\n",
       "      <th>8</th>\n",
       "      <td>0.623971</td>\n",
       "      <td>0.021289</td>\n",
       "      <td>0.023970</td>\n",
       "      <td>0.000028</td>\n",
       "      <td>9</td>\n",
       "      <td>10</td>\n",
       "      <td>{'max_depth': 9, 'n_estimators': 10}</td>\n",
       "      <td>0.812403</td>\n",
       "      <td>0.821378</td>\n",
       "      <td>0.816737</td>\n",
       "      <td>0.816839</td>\n",
       "      <td>0.003665</td>\n",
       "      <td>13</td>\n",
       "    </tr>\n",
       "    <tr>\n",
       "      <th>9</th>\n",
       "      <td>3.322067</td>\n",
       "      <td>0.133858</td>\n",
       "      <td>0.142455</td>\n",
       "      <td>0.033886</td>\n",
       "      <td>9</td>\n",
       "      <td>50</td>\n",
       "      <td>{'max_depth': 9, 'n_estimators': 50}</td>\n",
       "      <td>0.813810</td>\n",
       "      <td>0.823347</td>\n",
       "      <td>0.820816</td>\n",
       "      <td>0.819324</td>\n",
       "      <td>0.004034</td>\n",
       "      <td>10</td>\n",
       "    </tr>\n",
       "    <tr>\n",
       "      <th>10</th>\n",
       "      <td>6.425992</td>\n",
       "      <td>0.149824</td>\n",
       "      <td>0.226749</td>\n",
       "      <td>0.037299</td>\n",
       "      <td>9</td>\n",
       "      <td>100</td>\n",
       "      <td>{'max_depth': 9, 'n_estimators': 100}</td>\n",
       "      <td>0.815778</td>\n",
       "      <td>0.822644</td>\n",
       "      <td>0.820113</td>\n",
       "      <td>0.819512</td>\n",
       "      <td>0.002835</td>\n",
       "      <td>8</td>\n",
       "    </tr>\n",
       "    <tr>\n",
       "      <th>11</th>\n",
       "      <td>12.984996</td>\n",
       "      <td>0.050904</td>\n",
       "      <td>0.504554</td>\n",
       "      <td>0.037384</td>\n",
       "      <td>9</td>\n",
       "      <td>200</td>\n",
       "      <td>{'max_depth': 9, 'n_estimators': 200}</td>\n",
       "      <td>0.816341</td>\n",
       "      <td>0.822925</td>\n",
       "      <td>0.821238</td>\n",
       "      <td>0.820168</td>\n",
       "      <td>0.002793</td>\n",
       "      <td>7</td>\n",
       "    </tr>\n",
       "    <tr>\n",
       "      <th>12</th>\n",
       "      <td>0.852236</td>\n",
       "      <td>0.023781</td>\n",
       "      <td>0.026255</td>\n",
       "      <td>0.006628</td>\n",
       "      <td>12</td>\n",
       "      <td>10</td>\n",
       "      <td>{'max_depth': 12, 'n_estimators': 10}</td>\n",
       "      <td>0.813247</td>\n",
       "      <td>0.818987</td>\n",
       "      <td>0.818987</td>\n",
       "      <td>0.817074</td>\n",
       "      <td>0.002706</td>\n",
       "      <td>12</td>\n",
       "    </tr>\n",
       "    <tr>\n",
       "      <th>13</th>\n",
       "      <td>4.041442</td>\n",
       "      <td>0.177782</td>\n",
       "      <td>0.151275</td>\n",
       "      <td>0.008464</td>\n",
       "      <td>12</td>\n",
       "      <td>50</td>\n",
       "      <td>{'max_depth': 12, 'n_estimators': 50}</td>\n",
       "      <td>0.814653</td>\n",
       "      <td>0.823066</td>\n",
       "      <td>0.823066</td>\n",
       "      <td>0.820262</td>\n",
       "      <td>0.003966</td>\n",
       "      <td>6</td>\n",
       "    </tr>\n",
       "    <tr>\n",
       "      <th>14</th>\n",
       "      <td>7.980532</td>\n",
       "      <td>0.051533</td>\n",
       "      <td>0.315498</td>\n",
       "      <td>0.021276</td>\n",
       "      <td>12</td>\n",
       "      <td>100</td>\n",
       "      <td>{'max_depth': 12, 'n_estimators': 100}</td>\n",
       "      <td>0.815075</td>\n",
       "      <td>0.824613</td>\n",
       "      <td>0.821941</td>\n",
       "      <td>0.820543</td>\n",
       "      <td>0.004017</td>\n",
       "      <td>3</td>\n",
       "    </tr>\n",
       "    <tr>\n",
       "      <th>15</th>\n",
       "      <td>16.388629</td>\n",
       "      <td>0.127197</td>\n",
       "      <td>0.574038</td>\n",
       "      <td>0.026780</td>\n",
       "      <td>12</td>\n",
       "      <td>200</td>\n",
       "      <td>{'max_depth': 12, 'n_estimators': 200}</td>\n",
       "      <td>0.816482</td>\n",
       "      <td>0.823769</td>\n",
       "      <td>0.821660</td>\n",
       "      <td>0.820637</td>\n",
       "      <td>0.003062</td>\n",
       "      <td>1</td>\n",
       "    </tr>\n",
       "  </tbody>\n",
       "</table>\n",
       "</div>"
      ],
      "text/plain": [
       "    mean_fit_time  std_fit_time  mean_score_time  std_score_time  \\\n",
       "0        0.304786      0.065373         0.025591        0.008099   \n",
       "1        1.328903      0.038488         0.087407        0.011708   \n",
       "2        2.973144      0.178962         0.196917        0.023735   \n",
       "3        5.564137      0.118006         0.319968        0.019688   \n",
       "4        0.461206      0.047570         0.022626        0.001876   \n",
       "5        2.271434      0.012186         0.108285        0.018203   \n",
       "6        4.613651      0.155278         0.183756        0.005275   \n",
       "7        9.238109      0.187360         0.405754        0.014547   \n",
       "8        0.623971      0.021289         0.023970        0.000028   \n",
       "9        3.322067      0.133858         0.142455        0.033886   \n",
       "10       6.425992      0.149824         0.226749        0.037299   \n",
       "11      12.984996      0.050904         0.504554        0.037384   \n",
       "12       0.852236      0.023781         0.026255        0.006628   \n",
       "13       4.041442      0.177782         0.151275        0.008464   \n",
       "14       7.980532      0.051533         0.315498        0.021276   \n",
       "15      16.388629      0.127197         0.574038        0.026780   \n",
       "\n",
       "   param_max_depth param_n_estimators                                  params  \\\n",
       "0                3                 10    {'max_depth': 3, 'n_estimators': 10}   \n",
       "1                3                 50    {'max_depth': 3, 'n_estimators': 50}   \n",
       "2                3                100   {'max_depth': 3, 'n_estimators': 100}   \n",
       "3                3                200   {'max_depth': 3, 'n_estimators': 200}   \n",
       "4                6                 10    {'max_depth': 6, 'n_estimators': 10}   \n",
       "5                6                 50    {'max_depth': 6, 'n_estimators': 50}   \n",
       "6                6                100   {'max_depth': 6, 'n_estimators': 100}   \n",
       "7                6                200   {'max_depth': 6, 'n_estimators': 200}   \n",
       "8                9                 10    {'max_depth': 9, 'n_estimators': 10}   \n",
       "9                9                 50    {'max_depth': 9, 'n_estimators': 50}   \n",
       "10               9                100   {'max_depth': 9, 'n_estimators': 100}   \n",
       "11               9                200   {'max_depth': 9, 'n_estimators': 200}   \n",
       "12              12                 10   {'max_depth': 12, 'n_estimators': 10}   \n",
       "13              12                 50   {'max_depth': 12, 'n_estimators': 50}   \n",
       "14              12                100  {'max_depth': 12, 'n_estimators': 100}   \n",
       "15              12                200  {'max_depth': 12, 'n_estimators': 200}   \n",
       "\n",
       "    split0_test_score  split1_test_score  split2_test_score  mean_test_score  \\\n",
       "0            0.813388           0.824754           0.819972         0.819371   \n",
       "1            0.812122           0.820253           0.813221         0.815199   \n",
       "2            0.810997           0.819550           0.811111         0.813886   \n",
       "3            0.811419           0.819409           0.813502         0.814777   \n",
       "4            0.814653           0.823347           0.819831         0.819277   \n",
       "5            0.815919           0.824332           0.820956         0.820402   \n",
       "6            0.815216           0.824473           0.821378         0.820355   \n",
       "7            0.815638           0.824473           0.821800         0.820637   \n",
       "8            0.812403           0.821378           0.816737         0.816839   \n",
       "9            0.813810           0.823347           0.820816         0.819324   \n",
       "10           0.815778           0.822644           0.820113         0.819512   \n",
       "11           0.816341           0.822925           0.821238         0.820168   \n",
       "12           0.813247           0.818987           0.818987         0.817074   \n",
       "13           0.814653           0.823066           0.823066         0.820262   \n",
       "14           0.815075           0.824613           0.821941         0.820543   \n",
       "15           0.816482           0.823769           0.821660         0.820637   \n",
       "\n",
       "    std_test_score  rank_test_score  \n",
       "0         0.004660                9  \n",
       "1         0.003602               14  \n",
       "2         0.004005               16  \n",
       "3         0.003384               15  \n",
       "4         0.003571               11  \n",
       "5         0.003457                4  \n",
       "6         0.003848                5  \n",
       "7         0.003700                1  \n",
       "8         0.003665               13  \n",
       "9         0.004034               10  \n",
       "10        0.002835                8  \n",
       "11        0.002793                7  \n",
       "12        0.002706               12  \n",
       "13        0.003966                6  \n",
       "14        0.004017                3  \n",
       "15        0.003062                1  "
      ]
     },
     "execution_count": 10,
     "metadata": {},
     "output_type": "execute_result"
    }
   ],
   "source": [
    "gds_res=pd.DataFrame(gds.cv_results_)\n",
    "gds_res\n",
    "\n"
   ]
  },
  {
   "cell_type": "markdown",
   "metadata": {},
   "source": [
    "**Find the best hyperparameters from the cross-validation.**"
   ]
  },
  {
   "cell_type": "code",
   "execution_count": 11,
   "metadata": {},
   "outputs": [
    {
     "data": {
      "text/plain": [
       "{'max_depth': 6, 'n_estimators': 200}"
      ]
     },
     "execution_count": 11,
     "metadata": {},
     "output_type": "execute_result"
    }
   ],
   "source": [
    "gds.best_params_"
   ]
  },
  {
   "cell_type": "code",
   "execution_count": 12,
   "metadata": {},
   "outputs": [
    {
     "data": {
      "image/png": "[encoded data removed]",
      "text/plain": [
       "<Figure size 432x216 with 2 Axes>"
      ]
     },
     "metadata": {
      "needs_background": "light"
     },
     "output_type": "display_data"
    }
   ],
   "source": [
    "fig, axs = plt.subplots(nrows=1, ncols=2, figsize=(6, 3))\n",
    "axs[0].plot(gds_res['param_n_estimators'],\n",
    "            gds_res['mean_fit_time'],\n",
    "            '-o')\n",
    "axs[0].set_xlabel('Number of trees')\n",
    "axs[0].set_ylabel('Mean fit time (seconds)')\n",
    "axs[1].errorbar(gds_res['param_n_estimators'],\n",
    "                gds_res['mean_test_score'],\n",
    "                yerr=gds_res['std_test_score'])\n",
    "axs[1].set_xlabel('Number of trees')\n",
    "axs[1].set_ylabel('Mean testing ROC AUC $\\pm$ 1 SD ')\n",
    "plt.tight_layout()\n"
   ]
  },
  {
   "cell_type": "markdown",
   "metadata": {},
   "source": [
    "________________________________________________________________________________________________________\n",
    "**Create a `pcolormesh` visualization of the mean testing score for each combination of hyperparameters.**\n",
    "\n",
    "<details>\n",
    "    <summary>Hint:</summary>\n",
    "    Remember to reshape the values of the mean testing scores to be a two-dimensional 4x4 grid.\n",
    "</details>"
   ]
  },
  {
   "cell_type": "code",
   "execution_count": 13,
   "metadata": {},
   "outputs": [
    {
     "name": "stdout",
     "output_type": "stream",
     "text": [
      "[[0 1 2 3 4]\n",
      " [0 1 2 3 4]\n",
      " [0 1 2 3 4]\n",
      " [0 1 2 3 4]\n",
      " [0 1 2 3 4]]\n",
      "[[0 0 0 0 0]\n",
      " [1 1 1 1 1]\n",
      " [2 2 2 2 2]\n",
      " [3 3 3 3 3]\n",
      " [4 4 4 4 4]]\n",
      "(5, 5)\n",
      "(5, 5)\n"
     ]
    }
   ],
   "source": [
    "# Create a 5x5 grid\n",
    "# Create a 5x5 grid\n",
    "xx, yy = np.meshgrid(range(5), range(5))\n",
    "print(xx)\n",
    "print(yy)\n",
    "print(xx.shape)\n",
    "print(yy.shape)\n"
   ]
  },
  {
   "cell_type": "code",
   "execution_count": 14,
   "metadata": {},
   "outputs": [
    {
     "data": {
      "text/plain": [
       "array([[0.81937087, 0.81519854, 0.81388589, 0.81477662],\n",
       "       [0.81927711, 0.82040223, 0.82035535, 0.82063663],\n",
       "       [0.81683934, 0.81932399, 0.81951151, 0.82016783],\n",
       "       [0.81707374, 0.82026159, 0.82054287, 0.82063663]])"
      ]
     },
     "execution_count": 14,
     "metadata": {},
     "output_type": "execute_result"
    }
   ],
   "source": [
    "gds_res_mean_ts_rs=gds_res['mean_test_score'].values.reshape(4,4)\n",
    "gds_res_mean_ts_rs\n"
   ]
  },
  {
   "cell_type": "code",
   "execution_count": 15,
   "metadata": {},
   "outputs": [
    {
     "data": {
      "image/png": "[encoded data removed]",
      "text/plain": [
       "<Figure size 432x288 with 1 Axes>"
      ]
     },
     "metadata": {
      "needs_background": "light"
     },
     "output_type": "display_data"
    }
   ],
   "source": [
    "# Set color map to `plt.cm.jet`\n",
    "ax=plt.axes()\n",
    "pcolor=ax.pcolormesh(xx,yy,gds_res_mean_ts_rs,cmap=plt.cm.jet)\n"
   ]
  },
  {
   "cell_type": "code",
   "execution_count": 16,
   "metadata": {
    "eid": "f0c62"
   },
   "outputs": [
    {
     "data": {
      "text/plain": [
       "Text(0, 0.5, 'Y coordinate')"
      ]
     },
     "execution_count": 16,
     "metadata": {},
     "output_type": "execute_result"
    },
    {
     "data": {
      "image/png": "[encoded data removed]",
      "text/plain": [
       "<Figure size 432x288 with 2 Axes>"
      ]
     },
     "metadata": {
      "needs_background": "light"
     },
     "output_type": "display_data"
    }
   ],
   "source": [
    "# Visualize pcolormesh\n",
    "ax=plt.axes()\n",
    "pcolor=ax.pcolormesh(xx,yy,gds_res_mean_ts_rs,cmap=plt.cm.jet)\n",
    "plt.colorbar(pcolor, label='Color scale')\n",
    "ax.set_xlabel('X coordinate')\n",
    "ax.set_ylabel('Y coordinate')"
   ]
  },
  {
   "cell_type": "markdown",
   "metadata": {},
   "source": [
    "________________________________________________________________________________________________________\n",
    "**Conclude which set of hyperparameters to use.**"
   ]
  },
  {
   "cell_type": "code",
   "execution_count": 17,
   "metadata": {},
   "outputs": [
    {
     "data": {
      "text/html": [
       "<div>\n",
       "<style scoped>\n",
       "    .dataframe tbody tr th:only-of-type {\n",
       "        vertical-align: middle;\n",
       "    }\n",
       "\n",
       "    .dataframe tbody tr th {\n",
       "        vertical-align: top;\n",
       "    }\n",
       "\n",
       "    .dataframe thead th {\n",
       "        text-align: right;\n",
       "    }\n",
       "</style>\n",
       "<table border=\"1\" class=\"dataframe\">\n",
       "  <thead>\n",
       "    <tr style=\"text-align: right;\">\n",
       "      <th></th>\n",
       "      <th>Features</th>\n",
       "      <th>Importance</th>\n",
       "    </tr>\n",
       "  </thead>\n",
       "  <tbody>\n",
       "    <tr>\n",
       "      <th>0</th>\n",
       "      <td>LIMIT_BAL</td>\n",
       "      <td>0.060641</td>\n",
       "    </tr>\n",
       "    <tr>\n",
       "      <th>1</th>\n",
       "      <td>EDUCATION</td>\n",
       "      <td>0.003056</td>\n",
       "    </tr>\n",
       "    <tr>\n",
       "      <th>2</th>\n",
       "      <td>MARRIAGE</td>\n",
       "      <td>0.001605</td>\n",
       "    </tr>\n",
       "    <tr>\n",
       "      <th>3</th>\n",
       "      <td>AGE</td>\n",
       "      <td>0.010185</td>\n",
       "    </tr>\n",
       "    <tr>\n",
       "      <th>4</th>\n",
       "      <td>PAY_1</td>\n",
       "      <td>0.588212</td>\n",
       "    </tr>\n",
       "    <tr>\n",
       "      <th>5</th>\n",
       "      <td>BILL_AMT1</td>\n",
       "      <td>0.024228</td>\n",
       "    </tr>\n",
       "    <tr>\n",
       "      <th>6</th>\n",
       "      <td>BILL_AMT2</td>\n",
       "      <td>0.027810</td>\n",
       "    </tr>\n",
       "    <tr>\n",
       "      <th>7</th>\n",
       "      <td>BILL_AMT3</td>\n",
       "      <td>0.021564</td>\n",
       "    </tr>\n",
       "    <tr>\n",
       "      <th>8</th>\n",
       "      <td>BILL_AMT4</td>\n",
       "      <td>0.020105</td>\n",
       "    </tr>\n",
       "    <tr>\n",
       "      <th>9</th>\n",
       "      <td>BILL_AMT5</td>\n",
       "      <td>0.019006</td>\n",
       "    </tr>\n",
       "    <tr>\n",
       "      <th>10</th>\n",
       "      <td>BILL_AMT6</td>\n",
       "      <td>0.018634</td>\n",
       "    </tr>\n",
       "    <tr>\n",
       "      <th>11</th>\n",
       "      <td>PAY_AMT1</td>\n",
       "      <td>0.064168</td>\n",
       "    </tr>\n",
       "    <tr>\n",
       "      <th>12</th>\n",
       "      <td>PAY_AMT2</td>\n",
       "      <td>0.042940</td>\n",
       "    </tr>\n",
       "    <tr>\n",
       "      <th>13</th>\n",
       "      <td>PAY_AMT3</td>\n",
       "      <td>0.034769</td>\n",
       "    </tr>\n",
       "    <tr>\n",
       "      <th>14</th>\n",
       "      <td>PAY_AMT4</td>\n",
       "      <td>0.025213</td>\n",
       "    </tr>\n",
       "    <tr>\n",
       "      <th>15</th>\n",
       "      <td>PAY_AMT5</td>\n",
       "      <td>0.020151</td>\n",
       "    </tr>\n",
       "    <tr>\n",
       "      <th>16</th>\n",
       "      <td>PAY_AMT6</td>\n",
       "      <td>0.017715</td>\n",
       "    </tr>\n",
       "  </tbody>\n",
       "</table>\n",
       "</div>"
      ],
      "text/plain": [
       "     Features  Importance\n",
       "0   LIMIT_BAL    0.060641\n",
       "1   EDUCATION    0.003056\n",
       "2    MARRIAGE    0.001605\n",
       "3         AGE    0.010185\n",
       "4       PAY_1    0.588212\n",
       "5   BILL_AMT1    0.024228\n",
       "6   BILL_AMT2    0.027810\n",
       "7   BILL_AMT3    0.021564\n",
       "8   BILL_AMT4    0.020105\n",
       "9   BILL_AMT5    0.019006\n",
       "10  BILL_AMT6    0.018634\n",
       "11   PAY_AMT1    0.064168\n",
       "12   PAY_AMT2    0.042940\n",
       "13   PAY_AMT3    0.034769\n",
       "14   PAY_AMT4    0.025213\n",
       "15   PAY_AMT5    0.020151\n",
       "16   PAY_AMT6    0.017715"
      ]
     },
     "execution_count": 17,
     "metadata": {},
     "output_type": "execute_result"
    }
   ],
   "source": [
    "# Create a dataframe of the feature names and importance\n",
    "gds_feat_imp=pd.DataFrame({'Features':features_response[:-1],'Importance':gds.best_estimator_.feature_importances_})\n",
    "gds_feat_imp"
   ]
  },
  {
   "cell_type": "code",
   "execution_count": 18,
   "metadata": {},
   "outputs": [
    {
     "data": {
      "text/html": [
       "<div>\n",
       "<style scoped>\n",
       "    .dataframe tbody tr th:only-of-type {\n",
       "        vertical-align: middle;\n",
       "    }\n",
       "\n",
       "    .dataframe tbody tr th {\n",
       "        vertical-align: top;\n",
       "    }\n",
       "\n",
       "    .dataframe thead th {\n",
       "        text-align: right;\n",
       "    }\n",
       "</style>\n",
       "<table border=\"1\" class=\"dataframe\">\n",
       "  <thead>\n",
       "    <tr style=\"text-align: right;\">\n",
       "      <th></th>\n",
       "      <th>Features</th>\n",
       "      <th>Importance</th>\n",
       "    </tr>\n",
       "  </thead>\n",
       "  <tbody>\n",
       "    <tr>\n",
       "      <th>4</th>\n",
       "      <td>PAY_1</td>\n",
       "      <td>0.588212</td>\n",
       "    </tr>\n",
       "    <tr>\n",
       "      <th>11</th>\n",
       "      <td>PAY_AMT1</td>\n",
       "      <td>0.064168</td>\n",
       "    </tr>\n",
       "    <tr>\n",
       "      <th>0</th>\n",
       "      <td>LIMIT_BAL</td>\n",
       "      <td>0.060641</td>\n",
       "    </tr>\n",
       "    <tr>\n",
       "      <th>12</th>\n",
       "      <td>PAY_AMT2</td>\n",
       "      <td>0.042940</td>\n",
       "    </tr>\n",
       "    <tr>\n",
       "      <th>13</th>\n",
       "      <td>PAY_AMT3</td>\n",
       "      <td>0.034769</td>\n",
       "    </tr>\n",
       "    <tr>\n",
       "      <th>6</th>\n",
       "      <td>BILL_AMT2</td>\n",
       "      <td>0.027810</td>\n",
       "    </tr>\n",
       "    <tr>\n",
       "      <th>14</th>\n",
       "      <td>PAY_AMT4</td>\n",
       "      <td>0.025213</td>\n",
       "    </tr>\n",
       "    <tr>\n",
       "      <th>5</th>\n",
       "      <td>BILL_AMT1</td>\n",
       "      <td>0.024228</td>\n",
       "    </tr>\n",
       "    <tr>\n",
       "      <th>7</th>\n",
       "      <td>BILL_AMT3</td>\n",
       "      <td>0.021564</td>\n",
       "    </tr>\n",
       "    <tr>\n",
       "      <th>15</th>\n",
       "      <td>PAY_AMT5</td>\n",
       "      <td>0.020151</td>\n",
       "    </tr>\n",
       "    <tr>\n",
       "      <th>8</th>\n",
       "      <td>BILL_AMT4</td>\n",
       "      <td>0.020105</td>\n",
       "    </tr>\n",
       "    <tr>\n",
       "      <th>9</th>\n",
       "      <td>BILL_AMT5</td>\n",
       "      <td>0.019006</td>\n",
       "    </tr>\n",
       "    <tr>\n",
       "      <th>10</th>\n",
       "      <td>BILL_AMT6</td>\n",
       "      <td>0.018634</td>\n",
       "    </tr>\n",
       "    <tr>\n",
       "      <th>16</th>\n",
       "      <td>PAY_AMT6</td>\n",
       "      <td>0.017715</td>\n",
       "    </tr>\n",
       "    <tr>\n",
       "      <th>3</th>\n",
       "      <td>AGE</td>\n",
       "      <td>0.010185</td>\n",
       "    </tr>\n",
       "    <tr>\n",
       "      <th>1</th>\n",
       "      <td>EDUCATION</td>\n",
       "      <td>0.003056</td>\n",
       "    </tr>\n",
       "    <tr>\n",
       "      <th>2</th>\n",
       "      <td>MARRIAGE</td>\n",
       "      <td>0.001605</td>\n",
       "    </tr>\n",
       "  </tbody>\n",
       "</table>\n",
       "</div>"
      ],
      "text/plain": [
       "     Features  Importance\n",
       "4       PAY_1    0.588212\n",
       "11   PAY_AMT1    0.064168\n",
       "0   LIMIT_BAL    0.060641\n",
       "12   PAY_AMT2    0.042940\n",
       "13   PAY_AMT3    0.034769\n",
       "6   BILL_AMT2    0.027810\n",
       "14   PAY_AMT4    0.025213\n",
       "5   BILL_AMT1    0.024228\n",
       "7   BILL_AMT3    0.021564\n",
       "15   PAY_AMT5    0.020151\n",
       "8   BILL_AMT4    0.020105\n",
       "9   BILL_AMT5    0.019006\n",
       "10  BILL_AMT6    0.018634\n",
       "16   PAY_AMT6    0.017715\n",
       "3         AGE    0.010185\n",
       "1   EDUCATION    0.003056\n",
       "2    MARRIAGE    0.001605"
      ]
     },
     "execution_count": 18,
     "metadata": {},
     "output_type": "execute_result"
    }
   ],
   "source": [
    "# Sort values by importance\n",
    "gds_feat_imp.sort_values(by='Importance',ascending=False)"
   ]
  },
  {
   "cell_type": "code",
   "execution_count": null,
   "metadata": {},
   "outputs": [],
   "source": []
  }
 ],
 "metadata": {
  "kernelspec": {
   "display_name": "Python 3",
   "language": "python",
   "name": "python3"
  },
  "language_info": {
   "codemirror_mode": {
    "name": "ipython",
    "version": 3
   },
   "file_extension": ".py",
   "mimetype": "text/x-python",
   "name": "python",
   "nbconvert_exporter": "python",
   "pygments_lexer": "ipython3",
   "version": "3.7.6"
  }
 },
 "nbformat": 4,
 "nbformat_minor": 2
}
